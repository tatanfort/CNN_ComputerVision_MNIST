{
 "cells": [
  {
   "cell_type": "markdown",
   "metadata": {},
   "source": [
    "# Utilisation de réseaux de neuronnes profonds et de convolutions pour la classification d'images"
   ]
  },
  {
   "cell_type": "markdown",
   "metadata": {},
   "source": [
    "L'objectif de ce notebook est de comparer différentes architectures afin d'obtenir le meilleur score prossible de prédiction sur le dataset MNIST dans le cadre de la compétition Kaggle associée.\n",
    "La librairie utilisée est Keras."
   ]
  },
  {
   "cell_type": "markdown",
   "metadata": {},
   "source": [
    "Meilleur score final obtenu: accuracy données test 0.99757 pour 138,682 parametres. TOP 4% Kaggle"
   ]
  },
  {
   "cell_type": "code",
   "execution_count": 3,
   "metadata": {},
   "outputs": [],
   "source": [
    "import keras\n",
    "import numpy as np\n",
    "from keras.datasets import mnist\n",
    "from keras.models import Sequential\n",
    "from keras.layers import Dense, Conv2D, Dropout, Activation, Flatten, MaxPooling2D, BatchNormalization\n",
    "from keras.utils import np_utils\n",
    "from keras.callbacks import EarlyStopping, ModelCheckpoint\n",
    "import pandas as pd\n",
    "import numpy as np\n",
    "import csv\n",
    "import matplotlib.pyplot as plt"
   ]
  },
  {
   "cell_type": "markdown",
   "metadata": {},
   "source": [
    "Import et traitemment du jeu de données"
   ]
  },
  {
   "cell_type": "code",
   "execution_count": 11,
   "metadata": {},
   "outputs": [],
   "source": [
    "#Depuis le dataset MNIST de Keras\n",
    "(X_train, y_train), (X_test, y_test) = mnist.load_data()\n",
    "n_cols=X_train.shape[1]*X_train.shape[2]\n",
    "X_train = X_train.reshape(X_train.shape[0], n_cols)\n",
    "X_test = X_test.reshape(X_test.shape[0], n_cols)\n",
    "y_train = np_utils.to_categorical(y_train, 10)\n",
    "y_test = np_utils.to_categorical(y_test, 10)\n",
    "X_train=X_train/255\n",
    "X_test=X_test/255\n",
    "taille_batch=20\n",
    "lr=[0.000001,0.01,1] #different lr à tester\n",
    "early_stopping = EarlyStopping(patience=2)\n",
    "\n",
    "#Depuis le dataset fourni par Kaggle\n",
    "data_train_kaggle=pd.read_csv(\"/Users/nathanredin/Downloads/digit-recognizer/train.csv\")\n",
    "data_train_kaggle=np.array(data_train_kaggle)\n",
    "data_test_kaggle=pd.read_csv(\"/Users/nathanredin/Downloads/digit-recognizer/test.csv\")\n",
    "data_test_kaggle=np.array(data_test_kaggle)\n",
    "X_test_kaggle=data_test_kaggle.reshape(28000,28,28,1)\n",
    "y_train_kaggle=data_train_kaggle[:,0]\n",
    "X_train_kaggle=data_train_kaggle[:,1:42000]\n",
    "X_train_kaggle=X_train_kaggle.reshape(42000,28,28,1)\n",
    "y_train_kaggle = np_utils.to_categorical(y_train_kaggle, 10)\n",
    "X_train_kaggle=X_train_kaggle/255\n",
    "X_test_kaggle=X_test_kaggle/255\n",
    "\n",
    "\n",
    "#nb: j'ai utilisé l'intégralité du dataset MNIST pour entrainer les models:\n",
    "#X_train = np.concatenate((X_train, X_test))\n",
    "#y_train = np.concatenate((y_train, y_test))"
   ]
  },
  {
   "cell_type": "markdown",
   "metadata": {},
   "source": [
    "Comme nous allons entrainer plusieurs fois le même model et pour la lisibilité de ce notebook,\n",
    "je crée une fonction réinitialisant les poids du model"
   ]
  },
  {
   "cell_type": "code",
   "execution_count": 7,
   "metadata": {},
   "outputs": [],
   "source": [
    "def reset_weights(model):\n",
    "    session = keras.backend.get_session()\n",
    "    for layer in model.layers:\n",
    "        if hasattr(layer, 'kernel_initializer'):\n",
    "            layer.kernel.initializer.run(session=session)"
   ]
  },
  {
   "cell_type": "markdown",
   "metadata": {},
   "source": [
    "## Creation d'un reseau basique (type RBM) et entrainement sur les données d'apprentissage:\n"
   ]
  },
  {
   "cell_type": "code",
   "execution_count": 4,
   "metadata": {},
   "outputs": [
    {
     "name": "stdout",
     "output_type": "stream",
     "text": [
      "_________________________________________________________________\n",
      "Layer (type)                 Output Shape              Param #   \n",
      "=================================================================\n",
      "dense_1 (Dense)              (None, 32)                25120     \n",
      "_________________________________________________________________\n",
      "dense_2 (Dense)              (None, 50)                1650      \n",
      "_________________________________________________________________\n",
      "dense_3 (Dense)              (None, 10)                510       \n",
      "=================================================================\n",
      "Total params: 27,280\n",
      "Trainable params: 27,280\n",
      "Non-trainable params: 0\n",
      "_________________________________________________________________\n",
      "None\n"
     ]
    }
   ],
   "source": [
    "model = Sequential()\n",
    "#premiere couche\n",
    "model.add(Dense(32, activation='relu', input_shape = (n_cols,)))\n",
    "#seconde couche\n",
    "model.add(Dense(50, activation='relu'))\n",
    "#derniere couche\n",
    "model.add(Dense(10, activation='softmax'))\n",
    "\n",
    "model.compile(optimizer='adam',\n",
    "              loss='categorical_crossentropy',\n",
    "              metrics=['accuracy'])\n",
    "\n",
    "print(model.summary())"
   ]
  },
  {
   "cell_type": "code",
   "execution_count": null,
   "metadata": {
    "collapsed": true
   },
   "outputs": [],
   "source": [
    "model.fit(X_train, y_train, batch_size=taille_batch,epochs=10)\n",
    "model.evaluate(X_test,y_test)"
   ]
  },
  {
   "cell_type": "markdown",
   "metadata": {
    "collapsed": true
   },
   "source": [
    "## Réseau à convolutions (CNN)"
   ]
  },
  {
   "cell_type": "code",
   "execution_count": 9,
   "metadata": {},
   "outputs": [
    {
     "name": "stdout",
     "output_type": "stream",
     "text": [
      "_________________________________________________________________\n",
      "Layer (type)                 Output Shape              Param #   \n",
      "=================================================================\n",
      "conv2d_1 (Conv2D)            (None, 26, 26, 10)        100       \n",
      "_________________________________________________________________\n",
      "max_pooling2d_1 (MaxPooling2 (None, 13, 13, 10)        0         \n",
      "_________________________________________________________________\n",
      "conv2d_2 (Conv2D)            (None, 11, 11, 10)        910       \n",
      "_________________________________________________________________\n",
      "flatten_1 (Flatten)          (None, 1210)              0         \n",
      "_________________________________________________________________\n",
      "dense_1 (Dense)              (None, 32)                38752     \n",
      "_________________________________________________________________\n",
      "dense_2 (Dense)              (None, 50)                1650      \n",
      "_________________________________________________________________\n",
      "dense_3 (Dense)              (None, 10)                510       \n",
      "=================================================================\n",
      "Total params: 41,922\n",
      "Trainable params: 41,922\n",
      "Non-trainable params: 0\n",
      "_________________________________________________________________\n",
      "None\n"
     ]
    }
   ],
   "source": [
    "X_train=X_train.reshape(60000,28,28,1)    #l'entrée d'une couche de convolutions doit etre en format matriciel (ici 28x28)\n",
    "img_rows=X_train.shape[1]\n",
    "img_cols=X_train.shape[2]\n",
    "\n",
    "# Initialisation du model\n",
    "model = Sequential()\n",
    "\n",
    "# ajout d'une convolution:\n",
    "model.add(Conv2D(10, kernel_size=3, activation='relu',\n",
    "               input_shape=[img_rows,img_cols,1]))\n",
    "#pour réduire le temps de calcule et la qualité du modele on peut jouer sur le padding et le strides ou encore utiliser un noyau dilaté...\n",
    "\n",
    "#ajout d'un MaxPooling pour réduire le nombres de parametres\n",
    "\n",
    "model.add(MaxPooling2D(pool_size=(2,2),padding='valid'))\n",
    "\n",
    "model.add(Conv2D(10, kernel_size=3, activation='relu',\n",
    "               input_shape=[img_rows,img_cols,1]))\n",
    "\n",
    "# applatissage et concaténation des features map\n",
    "model.add(Flatten())\n",
    "\n",
    "#premiere couche\n",
    "model.add(Dense(32, activation='relu', input_shape = (n_cols,)))\n",
    "#seconde couche\n",
    "model.add(Dense(50, activation='relu'))\n",
    "#derniere couche\n",
    "model.add(Dense(10, activation='softmax'))\n",
    "\n",
    "model.compile(optimizer='adam',\n",
    "              loss='categorical_crossentropy',\n",
    "              metrics=['accuracy'])\n",
    "\n",
    "print(model.summary())"
   ]
  },
  {
   "cell_type": "code",
   "execution_count": null,
   "metadata": {
    "collapsed": true
   },
   "outputs": [],
   "source": [
    "model.fit(X_train, y_train, batch_size=taille_batch,epochs=10)\n",
    "model.evaluate(X_test,y_test)"
   ]
  },
  {
   "cell_type": "markdown",
   "metadata": {
    "collapsed": true
   },
   "source": [
    "Avec cette architecture, je me retrouve classé top 29% seulement alors qu'on a une accuracy de 99.9% sur les données d'apprentissage, contre 99.3114% sur les données test (sans le maxpool et le second cnn), et 98.8871% avec. Je soupçonne donc un leger overfitting.\n"
   ]
  },
  {
   "cell_type": "markdown",
   "metadata": {
    "collapsed": true
   },
   "source": [
    "# Afin d'éviter l'overfitting: "
   ]
  },
  {
   "cell_type": "markdown",
   "metadata": {},
   "source": [
    "On peut deja commencer par plot la validation-loss curve selon le nombre d'epochs effectués afin d'avoir une idée de l'évolution du model durant la phase d'apprentissage:"
   ]
  },
  {
   "cell_type": "code",
   "execution_count": 9,
   "metadata": {},
   "outputs": [
    {
     "data": {
      "image/png": "[encoded data removed]",
      "text/plain": [
       "<Figure size 432x288 with 1 Axes>"
      ]
     },
     "metadata": {
      "needs_background": "light"
     },
     "output_type": "display_data"
    }
   ],
   "source": [
    "reset_weights(model)\n",
    "training = model.fit(X_train, y_train, batch_size=taille_batch,epochs=10,verbose=0,validation_split=0.2)\n",
    "history = training.history\n",
    "plt.plot(history['loss'])\n",
    "# Plot the validation loss\n",
    "plt.plot(history['val_loss'])\n",
    "# Show the figure\n",
    "plt.show()"
   ]
  },
  {
   "cell_type": "markdown",
   "metadata": {},
   "source": [
    "On observe que rapidement (après 4 à 5 epochs) la valeur de l'entropie croisée sur les données test stagne et ré-augmente. C'est donc qu'il y a overfiting."
   ]
  },
  {
   "cell_type": "markdown",
   "metadata": {},
   "source": [
    "Plusieurs solution:"
   ]
  },
  {
   "cell_type": "markdown",
   "metadata": {},
   "source": [
    "## Ajouter un callback dans le model.fit"
   ]
  },
  {
   "cell_type": "code",
   "execution_count": 10,
   "metadata": {},
   "outputs": [
    {
     "name": "stdout",
     "output_type": "stream",
     "text": [
      "yo\n"
     ]
    }
   ],
   "source": [
    "reset_weights(model)\n",
    "\n",
    "early_stopping = EarlyStopping(patience=2)\n",
    "training = model.fit(X_train, y_train, batch_size=taille_batch,epochs=10,callbacks=[early_stopping],validation_split=0.2)"
   ]
  },
  {
   "cell_type": "markdown",
   "metadata": {
    "collapsed": true
   },
   "source": [
    "## Stocker les poids après chaque training et recuperer ceux qui minimisent la val_loss grace à la methode Callback de Keras\n"
   ]
  },
  {
   "cell_type": "code",
   "execution_count": null,
   "metadata": {},
   "outputs": [],
   "source": [
    "reset_weights(model)\n",
    "\n",
    "checkpoint=ModelCheckpoint('weights.hdf5',monitor='val_loss',save_best_only=True) #a executer avant l'apprentissage\n",
    "callback_list=[checkpoint]\n",
    "training = model.fit(X_train, y_train, batch_size=taille_batch,epochs=10,callbacks=callback_list,validation_split=0.2)\n",
    "\n",
    "model.load_weights('weights.hdf5')"
   ]
  },
  {
   "cell_type": "markdown",
   "metadata": {},
   "source": [
    "## Régularisation par ajout d'une couche dropout et batch normalization"
   ]
  },
  {
   "cell_type": "code",
   "execution_count": 13,
   "metadata": {
    "scrolled": true
   },
   "outputs": [
    {
     "name": "stdout",
     "output_type": "stream",
     "text": [
      "_________________________________________________________________\n",
      "Layer (type)                 Output Shape              Param #   \n",
      "=================================================================\n",
      "conv2d_6 (Conv2D)            (None, 28, 28, 16)        160       \n",
      "_________________________________________________________________\n",
      "conv2d_7 (Conv2D)            (None, 28, 28, 16)        2320      \n",
      "_________________________________________________________________\n",
      "max_pooling2d_3 (MaxPooling2 (None, 14, 14, 16)        0         \n",
      "_________________________________________________________________\n",
      "dropout_4 (Dropout)          (None, 14, 14, 16)        0         \n",
      "_________________________________________________________________\n",
      "batch_normalization_5 (Batch (None, 14, 14, 16)        64        \n",
      "_________________________________________________________________\n",
      "conv2d_8 (Conv2D)            (None, 14, 14, 32)        4640      \n",
      "_________________________________________________________________\n",
      "conv2d_9 (Conv2D)            (None, 14, 14, 32)        9248      \n",
      "_________________________________________________________________\n",
      "max_pooling2d_4 (MaxPooling2 (None, 7, 7, 32)          0         \n",
      "_________________________________________________________________\n",
      "dropout_5 (Dropout)          (None, 7, 7, 32)          0         \n",
      "_________________________________________________________________\n",
      "batch_normalization_6 (Batch (None, 7, 7, 32)          128       \n",
      "_________________________________________________________________\n",
      "conv2d_10 (Conv2D)           (None, 5, 5, 64)          18496     \n",
      "_________________________________________________________________\n",
      "batch_normalization_7 (Batch (None, 5, 5, 64)          256       \n",
      "_________________________________________________________________\n",
      "flatten_2 (Flatten)          (None, 1600)              0         \n",
      "_________________________________________________________________\n",
      "dense_3 (Dense)              (None, 64)                102464    \n",
      "_________________________________________________________________\n",
      "batch_normalization_8 (Batch (None, 64)                256       \n",
      "_________________________________________________________________\n",
      "dropout_6 (Dropout)          (None, 64)                0         \n",
      "_________________________________________________________________\n",
      "dense_4 (Dense)              (None, 10)                650       \n",
      "=================================================================\n",
      "Total params: 138,682\n",
      "Trainable params: 138,330\n",
      "Non-trainable params: 352\n",
      "_________________________________________________________________\n",
      "None\n"
     ]
    }
   ],
   "source": [
    "\n",
    "x_train=X_train.reshape(70000,28,28,1)\n",
    "img_rows=x_train.shape[1]\n",
    "img_cols=x_train.shape[2]\n",
    "\n",
    "#le nombre de parametres étant réduit par les 2 couches de MaxPooling et le Dropout, on peut augmenter le nombre de noyaux sur les couches de convolutions.\n",
    "#On peut également créer une architecture plus profonde:\n",
    "\n",
    "model = Sequential()\n",
    "\n",
    "model.add(Conv2D(16, kernel_size=3, activation='relu',\n",
    "               input_shape=[img_rows,img_cols,1], padding='same'))\n",
    "model.add(Conv2D(16, kernel_size=3, activation='relu',\n",
    "               input_shape=[img_rows,img_cols,1], padding='same'))\n",
    "model.add(MaxPooling2D(pool_size=(2,2),padding='valid'))\n",
    "# Ajout d'un dropout \n",
    "model.add(Dropout(0.2))\n",
    "\n",
    "model.add(BatchNormalization())\n",
    "\n",
    "model.add(Conv2D(32, kernel_size=3, activation='relu',\n",
    "               input_shape=[img_rows,img_cols,1], padding='same'))\n",
    "model.add(Conv2D(32, kernel_size=3, activation='relu',\n",
    "               input_shape=[img_rows,img_cols,1], padding='same'))\n",
    "model.add(MaxPooling2D(pool_size=(2,2),padding='valid'))\n",
    "# Ajout d'un dropout \n",
    "model.add(Dropout(0.3))\n",
    "\n",
    "model.add(BatchNormalization())\n",
    "\n",
    "model.add(Conv2D(64, kernel_size=3, activation='relu',\n",
    "               input_shape=[img_rows,img_cols,1]))\n",
    "\n",
    "# Ajout d'une couche de normalisation\n",
    "model.add(BatchNormalization())\n",
    "\n",
    "\n",
    "model.add(Flatten())\n",
    "\n",
    "model.add(Dense(64, activation='relu'))\n",
    "model.add(BatchNormalization())\n",
    "model.add(Dropout(0.3))\n",
    "model.add(Dense(10, activation = \"softmax\"))\n",
    "\n",
    "model.compile(optimizer='adam',\n",
    "              loss='categorical_crossentropy',\n",
    "              metrics=['accuracy'])\n",
    "\n",
    "print(model.summary())\n",
    "\n",
    "#stocker les poids après chaque training et recuperer ceux qui minimisent la val_loss grace à la methode Callback de Keras\n",
    "checkpoint=ModelCheckpoint('weights.hdf5',monitor='val_loss',save_best_only=True) #a executer avant l'apprentissage\n",
    "callback_list=[checkpoint]\n",
    "training = model.fit(x_train, y_train, batch_size=taille_batch,epochs=30,callbacks=callback_list,validation_split=0.2)\n",
    "\n",
    "model.load_weights('weights.hdf5')"
   ]
  },
  {
   "cell_type": "markdown",
   "metadata": {},
   "source": [
    "Un apprentissage sur 30 epochs permet d'améliorer le score sur les données test (accuracy 0.99757) ce qui m'a permit d'améliorer le ranking kaggle: top 4% \n",
    "avec un temps de processing relativement court: 8mn d'apprentissage\n",
    "\n",
    "Machine: \n",
    "\n",
    "CPU 2 coeurs Intel Core i5 cadencé à 2.7 GHz\n",
    "\n",
    "GPU Intel Iris Graphics 6100 1536 Mo\n",
    "\n",
    "https://www.kaggle.com/c/digit-recognizer/leaderboard\n"
   ]
  },
  {
   "cell_type": "markdown",
   "metadata": {},
   "source": [
    "## Utiliser un GAN pour ajouter des données"
   ]
  },
  {
   "cell_type": "markdown",
   "metadata": {},
   "source": [
    "D'autre technique de computer vision existentn (GAN, ResNet, Fully Convolutionnal network (for segmentation), transfer learning, LSTM) mais ne sont pas forcement pertinentes sur ce Dataset"
   ]
  }
 ],
 "metadata": {
  "kernelspec": {
   "display_name": "Python 3",
   "language": "python",
   "name": "python3"
  },
  "language_info": {
   "codemirror_mode": {
    "name": "ipython",
    "version": 3
   },
   "file_extension": ".py",
   "mimetype": "text/x-python",
   "name": "python",
   "nbconvert_exporter": "python",
   "pygments_lexer": "ipython3",
   "version": "3.6.3"
  }
 },
 "nbformat": 4,
 "nbformat_minor": 2
}
